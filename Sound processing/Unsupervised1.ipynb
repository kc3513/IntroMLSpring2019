{
 "cells": [
  {
   "cell_type": "markdown",
   "metadata": {},
   "source": [
    "## Unsupervised Learning"
   ]
  },
  {
   "cell_type": "markdown",
   "metadata": {},
   "source": [
    "In this exercise session, we will study some of the most popular methods used in unsupervised learning"
   ]
  },
  {
   "cell_type": "markdown",
   "metadata": {},
   "source": [
    "### 1. Principal component analysis "
   ]
  },
  {
   "cell_type": "markdown",
   "metadata": {},
   "source": [
    "In this first exercise, we will start by applying principal component analysis for data compression and/or simply to find the direction of greatest variation in a dataset."
   ]
  },
  {
   "cell_type": "markdown",
   "metadata": {},
   "source": [
    "__1.1. Face compression and recovery.__ As a warm up, use the lines below to load and store the olivetti face dataset. Then, use the methods from the _PCA class_ to learn the average face (first component) as well as the representations of the largest variations in the dataset (subsequent components).\n",
    "\n",
    "\n",
    "To get the representing faces, you will have to use three functions from the class (on top of the initialization of the model through PCA)\n",
    "\n",
    "    \n",
    " - The function _fit_ is used to initialize the PCA model with the data (i.e your face dataset)\n",
    " - The function _fit_transform_ is used to transform a given (set of) image(s) (using the transform that was learned in the call to _fit_) into the lower dimensional/compressed domain.\n",
    " - Finally, the function _inverse_transform_ is used to recover the image from its compressed representation.\n",
    " \n",
    " As an example, consider a set of $N$ images ${I_k}_{k=1}^N$. If you learn a PCA model with 2 component, this model will look for an optimal representation of the set in terms of only two images, $c_1$ and $c_2$. In particular, it  means that _fit_ will learn the two best images $c_1$ and $c_2$ such that the difference $a_1c_1 - a_2c_2 - I_k$ is as small as possible for the set of images $I_k$, $k=1,..., N$. \n",
    " \n",
    "When applying the function _fit_transform_ to a specific image $I_k$, you precisely ask the model to return the coefficients $a_1$ and $a_2$ such that the decomposition $a_1c_1 + a_2c_2$ is the best approximation to $I_k$. The pair $(a_1,a_2)$ hence represents a compression of the image $I_k$, from which this image cn be recovered through the function _inverse_transform_. In other words, we have the chain\n",
    "\n",
    "$I_k$ --> _'fit transform'_ --> $(a_1,a_2)$ --> _'inverse transform'_ --> $a_1c_1 + a_2c_2$\n",
    "\n",
    "Use this idea on the Olivetti face dataset. Vary the number of components. \n",
    "\n",
    "\n",
    " - How many components, do you need to recover a meaningful image?\n",
    " - What does the first few components look like? What do they represent according to you?\n"
   ]
  },
  {
   "cell_type": "code",
   "execution_count": 22,
   "metadata": {},
   "outputs": [
    {
     "name": "stdout",
     "output_type": "stream",
     "text": [
      "(400, 4096)\n"
     ]
    },
    {
     "data": {
      "image/png": "[encoded data removed]",
      "text/plain": [
       "<Figure size 432x288 with 1 Axes>"
      ]
     },
     "metadata": {
      "needs_background": "light"
     },
     "output_type": "display_data"
    }
   ],
   "source": [
    "from sklearn.datasets import fetch_olivetti_faces\n",
    "import numpy as np\n",
    "from sklearn.decomposition import PCA\n",
    "import matplotlib.pyplot as plt\n",
    "\n",
    "\n",
    "\n",
    "faces = fetch_olivetti_faces()\n",
    "pca = PCA(n_components=5)\n",
    "pca.fit(faces.data)\n",
    "print(faces.data.shape)\n",
    "\n",
    "faces_trans = pca.fit_transform(faces.data)\n",
    "\n",
    "faces_invtrans = pca.inverse_transform(faces_trans)\n",
    "\n",
    "\n",
    "image1 = faces_invtrans[1,:].reshape((64,64))\n",
    "\n",
    "fig, ax = plt.subplots()\n",
    "ax.imshow(image1, cmap='gray') \n",
    "\n",
    "plt.show()\n"
   ]
  },
  {
   "cell_type": "markdown",
   "metadata": {},
   "source": [
    "__1.2 Gaining more intuition : a simpler two sources dataset__\n",
    "\n",
    "In this second exercise, to gain some intuition, we will consider a dataset generated from two sources and compare the vectors returned by principal component analysis and independent component analysis. Consider the points cloud given below. On the transformed dataset, apply respectively a\n",
    "\n",
    " - PCA Analaysis with 2 components\n",
    " - ICA Analysis with 2 components\n",
    " \n",
    " Compare the results.\n"
   ]
  },
  {
   "cell_type": "code",
   "execution_count": 27,
   "metadata": {},
   "outputs": [
    {
     "name": "stdout",
     "output_type": "stream",
     "text": [
      "(20000, 2)\n"
     ]
    },
    {
     "data": {
      "image/png": "[encoded data removed]",
      "text/plain": [
       "<Figure size 432x288 with 1 Axes>"
      ]
     },
     "metadata": {},
     "output_type": "display_data"
    },
    {
     "data": {
      "image/png": "[encoded data removed]",
      "text/plain": [
       "<Figure size 432x288 with 1 Axes>"
      ]
     },
     "metadata": {},
     "output_type": "display_data"
    }
   ],
   "source": [
    "import numpy as np\n",
    "import pylab as pl\n",
    "\n",
    "from sklearn.decomposition import PCA, FastICA\n",
    "\n",
    "###############################################################################\n",
    "# Generate sample data\n",
    "rng = np.random.RandomState(42)\n",
    "S = rng.standard_t(1.5, size=(20000, 2))\n",
    "S[:, 0] *= 2.\n",
    "\n",
    "print(S.shape)\n",
    "\n",
    "plt.subplot(211)\n",
    "plt.scatter(S[:,0]/np.std(S),S[:,1]/np.std(S), s=2, marker='o',color='steelblue', alpha=0.5)\n",
    "axes = plt.gca()\n",
    "axes.set_xlim([-10,10])\n",
    "axes.set_ylim([-15,15])\n",
    "plt.show()\n",
    "\n",
    "\n",
    "# Mix data\n",
    "A = np.array([[1, 1], [0, 2]])  # Mixing matrix\n",
    "\n",
    "X = np.dot(S, A.T)  # Generate observations\n",
    "\n",
    "\n",
    "plt.subplot(212)\n",
    "plt.scatter(X[:,0]/np.std(X),X[:,1]/np.std(X), s=2, marker='o',color='steelblue', alpha=0.5)\n",
    "axes = plt.gca()\n",
    "axes.set_xlim([-10,10])\n",
    "axes.set_ylim([-15,15])\n",
    "plt.show()\n",
    "\n",
    "\n",
    "\n"
   ]
  },
  {
   "cell_type": "code",
   "execution_count": null,
   "metadata": {
    "collapsed": true
   },
   "outputs": [],
   "source": [
    "# put your code here\n",
    "\n"
   ]
  },
  {
   "cell_type": "markdown",
   "metadata": {},
   "source": [
    "### 2. Independent component Analysis"
   ]
  },
  {
   "cell_type": "markdown",
   "metadata": {},
   "source": [
    "In this exercise, we will use another approach to dimensionality reduction, known as independent component analysis (ICA). ICA is particularly useful in speech or more generally, source separation. In the classic version of this problem, known as _coktail party problem_, one is interested in recovering two distinct signals from a mix of them. Using the FastICA transform, recover the two speeches from the _mixed1.wav_ and _mixed1.wav_ files which are given on github."
   ]
  },
  {
   "cell_type": "code",
   "execution_count": 71,
   "metadata": {},
   "outputs": [
    {
     "name": "stdout",
     "output_type": "stream",
     "text": [
      "(156239,)\n",
      "(156239,)\n",
      "(156239, 2)\n"
     ]
    },
    {
     "data": {
      "text/plain": [
       "[<matplotlib.lines.Line2D at 0x104234278>,\n",
       " <matplotlib.lines.Line2D at 0x1042343c8>]"
      ]
     },
     "execution_count": 71,
     "metadata": {},
     "output_type": "execute_result"
    },
    {
     "data": {
      "image/png": "[encoded data removed]",
      "text/plain": [
       "<Figure size 432x288 with 1 Axes>"
      ]
     },
     "metadata": {
      "needs_background": "light"
     },
     "output_type": "display_data"
    }
   ],
   "source": [
    "import numpy as np                                                             \n",
    "import soundfile as sf                                                      \n",
    "from sklearn.decomposition import FastICA, PCA\n",
    "import matplotlib.pyplot as plt\n",
    "from scipy.io.wavfile import write\n",
    "\n",
    "\n",
    "mixed1, sample1 = sf.read(\"mixed1.wav\")\n",
    "mixed2, sample2 = sf.read(\"mixed2.wav\")\n",
    "print(mixed1.shape)\n",
    "print(mixed2.shape)\n",
    "\n",
    "mix = np.zeros((156239,2))\n",
    "mix[:,0] = mixed1\n",
    "mix[:,1] = mixed2\n",
    "\n",
    "mixed1 = mixed1.reshape(-1,1)\n",
    "\n",
    "transformer = FastICA(n_components=2, random_state=0)\n",
    "transformed = transformer.fit_transform(mix)\n",
    "print(transformed.shape)\n",
    "\n",
    "recovered1 = np.int16(transformed[:,0]/np.max(np.abs(transformed[:,0]))*32767)\n",
    "write('recovered1.wav',sample1,recovered1)\n",
    "\n",
    "recovered2 = np.int16(transformed[:,1]/np.max(np.abs(transformed[:,1]))*32767)\n",
    "write('recovered2.wav',sample2,recovered2)\n",
    "\n",
    "\n",
    "\n",
    "#transformed2 = transformer.fit_transform(mixed2)\n",
    "#print(transformed2.shape)\n",
    "\n",
    "#recovered2 = np.int16(transformed2[:,0]/np.max(np.abs(transformed2[:,0]))*32767)\n",
    "#write('recovered2.wav',sample2,recovered2)\n",
    "\n",
    "\n",
    "#pca = PCA(n_components=1)\n",
    "#transformed2 = pca.fit_transform(mixed1)\n",
    "#print(transformed2.shape)\n",
    "\n",
    "\n",
    "\n",
    "x = np.zeros((transformed1.shape))\n",
    "for i in range(156239):\n",
    "    x[i] = i\n",
    "\n",
    "plt.plot(x,transformed1)\n",
    "#plt.plot(x,transformed2)\n",
    "\n"
   ]
  },
  {
   "cell_type": "markdown",
   "metadata": {},
   "source": [
    "### 3. Manifold learning "
   ]
  },
  {
   "cell_type": "markdown",
   "metadata": {},
   "source": [
    "In this exercise, we will get familiar with the most popular manifold learning methods (see http://www.augustincosse.com/wp-content/uploads/2018/11/slides10.pdf for a review of the theory) "
   ]
  },
  {
   "cell_type": "markdown",
   "metadata": {},
   "source": [
    "__3.1. Getting some intuition: the moving ball__ Consider the sequence of frames defined below. Those frames are encoded as columns of the data matrix. Use the MDS and then ISOMAP algorithms to get an intuition on the trajectory followed by the white ball."
   ]
  },
  {
   "cell_type": "code",
   "execution_count": 7,
   "metadata": {},
   "outputs": [
    {
     "data": {
      "image/png": "[encoded data removed]",
      "text/plain": [
       "<Figure size 576x216 with 4 Axes>"
      ]
     },
     "metadata": {
      "needs_background": "light"
     },
     "output_type": "display_data"
    }
   ],
   "source": [
    "import numpy as np\n",
    "import matplotlib.pyplot as plt\n",
    "from sklearn.manifold import MDS\n",
    "from sklearn.manifold import Isomap\n",
    "\n",
    "radius = 15\n",
    "\n",
    "radius2 = 5\n",
    "\n",
    "\n",
    "theta = np.linspace(0, 2*np.pi, num=50)\n",
    "\n",
    "\n",
    "simple_movie = np.zeros((64,64,50))\n",
    "\n",
    "\n",
    "for k in range(0,50):\n",
    "\n",
    "        \n",
    "    xpos = np.rint(32 + radius*np.cos(theta[k]))\n",
    "    ypos = np.rint(32 + radius*np.sin(theta[k]))\n",
    "    \n",
    "    for i in range(0,simple_movie.shape[0]):\n",
    "        for j in range(0,simple_movie.shape[1]):\n",
    "    \n",
    "            if (i-xpos)**2 + (j-ypos)**2 < radius2**2:\n",
    "        \n",
    "                simple_movie[i,j,k] = 1\n",
    "\n",
    "plt.figure(1, figsize=(8, 3))\n",
    "plt.subplot(141)  \n",
    "plt.imshow(simple_movie[:,:,1],interpolation='nearest',cmap=plt.cm.gray)\n",
    "plt.axis('off')\n",
    "plt.subplot(142)  \n",
    "plt.imshow(simple_movie[:,:,15],interpolation='nearest',cmap=plt.cm.gray)\n",
    "plt.axis('off')\n",
    "plt.subplot(143)  \n",
    "plt.imshow(simple_movie[:,:,30],interpolation='nearest',cmap=plt.cm.gray)\n",
    "plt.axis('off')\n",
    "plt.subplot(144)  \n",
    "plt.imshow(simple_movie[:,:,45],interpolation='nearest',cmap=plt.cm.gray)\n",
    "plt.axis('off')\n",
    "plt.show()\n",
    "\n",
    "x = np.zeros((64,64))\n",
    "\n",
    "\n",
    "\n",
    "mds = MDS()\n",
    "iso = Isomap()\n",
    "#mds.fit_transform(simple_movie,simple_movie[])\n"
   ]
  },
  {
   "cell_type": "code",
   "execution_count": 5,
   "metadata": {
    "collapsed": true
   },
   "outputs": [],
   "source": [
    "import numpy as np\n",
    "\n",
    "data = np.zeros((simple_movie.shape[0]*simple_movie.shape[1],simple_movie.shape[2]))\n",
    "\n",
    "for k in range(0,50):\n",
    "    \n",
    "    tmp = np.zeros((simple_movie.shape[0],simple_movie.shape[1]))\n",
    "    tmp = simple_movie[:,:,k].T \n",
    "    \n",
    "    data[:,k] = tmp.reshape((simple_movie.shape[0]*simple_movie.shape[1],1)).ravel()\n",
    "\n",
    "    "
   ]
  },
  {
   "cell_type": "code",
   "execution_count": null,
   "metadata": {},
   "outputs": [],
   "source": [
    "from sklearn import manifold, datasets\n",
    "\n",
    "# put your code here\n",
    "\n",
    "\n"
   ]
  }
 ],
 "metadata": {
  "kernelspec": {
   "display_name": "Python 3",
   "language": "python",
   "name": "python3"
  },
  "language_info": {
   "codemirror_mode": {
    "name": "ipython",
    "version": 3
   },
   "file_extension": ".py",
   "mimetype": "text/x-python",
   "name": "python",
   "nbconvert_exporter": "python",
   "pygments_lexer": "ipython3",
   "version": "3.7.1"
  }
 },
 "nbformat": 4,
 "nbformat_minor": 2
}
