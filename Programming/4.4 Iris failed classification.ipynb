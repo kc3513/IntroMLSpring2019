{
 "cells": [
  {
   "cell_type": "code",
   "execution_count": 31,
   "metadata": {},
   "outputs": [
    {
     "data": {
      "image/png": "[encoded data removed]",
      "text/plain": [
       "<Figure size 432x288 with 1 Axes>"
      ]
     },
     "metadata": {
      "needs_background": "light"
     },
     "output_type": "display_data"
    }
   ],
   "source": [
    "import numpy as np\n",
    "import pandas as pd\n",
    "import random\n",
    "import matplotlib.pyplot as plt\n",
    "\n",
    "import matplotlib.pyplot as plt\n",
    "\n",
    "data = pd.read_csv(\"Iris.csv\")\n",
    "\n",
    "\n",
    "sepalL = np.zeros((data.shape[0],1))\n",
    "petalL = np.zeros((data.shape[0],1))\n",
    "\n",
    "\n",
    "for k in range(0, data.shape[0]):\n",
    "    \n",
    "    tmp = data.values[k]    \n",
    "    sepalL[k] = tmp[1]\n",
    "    petalL[k] = tmp[3]\n",
    "    \n",
    "\n",
    "plt.figure()\n",
    "plt.subplot(211)\n",
    "plt.scatter(sepalL, petalL, s=20)\n",
    "\n",
    "def dist(x1,x2,y1,y2)\n",
    "\n",
    "def kmeans(xx,yy,number):\n",
    "    centroids = np.zeros((number,2))\n",
    "    for i in range(number):\n",
    "        index = random.randint(0,np.size(xx))\n",
    "        centroids[i,0] = xx[index]\n",
    "        centroids[i,1] = yy[index]\n",
    "    \n",
    "    plt.scatter(centroids[:,0],centroids[:,1])\n",
    "    \n",
    "    for j in range(np.size(xx)):\n",
    "        dist = (xx[j]**2 + yy[j]**2) ** (0.5)\n",
    "        \n",
    "kmeans(sepalL,petalL,3)\n"
   ]
  },
  {
   "cell_type": "code",
   "execution_count": null,
   "metadata": {},
   "outputs": [],
   "source": []
  },
  {
   "cell_type": "code",
   "execution_count": null,
   "metadata": {},
   "outputs": [],
   "source": []
  }
 ],
 "metadata": {
  "kernelspec": {
   "display_name": "Python 3",
   "language": "python",
   "name": "python3"
  },
  "language_info": {
   "codemirror_mode": {
    "name": "ipython",
    "version": 3
   },
   "file_extension": ".py",
   "mimetype": "text/x-python",
   "name": "python",
   "nbconvert_exporter": "python",
   "pygments_lexer": "ipython3",
   "version": "3.7.1"
  }
 },
 "nbformat": 4,
 "nbformat_minor": 2
}
